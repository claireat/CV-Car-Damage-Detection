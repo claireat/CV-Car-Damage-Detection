{
 "cells": [
  {
   "cell_type": "code",
   "execution_count": 1,
   "id": "05d67a42",
   "metadata": {},
   "outputs": [
    {
     "name": "stdout",
     "output_type": "stream",
     "text": [
      "Collecting opencv-python==3.4.2.16\n",
      "  Using cached opencv_python-3.4.2.16-cp36-cp36m-win_amd64.whl (33.8 MB)\n",
      "Collecting numpy>=1.11.3\n",
      "Note: you may need to restart the kernel to use updated packages.  Using cached numpy-1.19.5-cp36-cp36m-win_amd64.whl (13.2 MB)\n",
      "Installing collected packages: numpy, opencv-python\n",
      "Successfully installed numpy-1.19.5 opencv-python-3.4.2.16\n",
      "\n"
     ]
    },
    {
     "name": "stderr",
     "output_type": "stream",
     "text": [
      "WARNING: The candidate selected for download or install is a yanked version: 'opencv-python' candidate (version 3.4.2.16 at https://files.pythonhosted.org/packages/eb/6c/c3e960a495dc7ac5f542cc5a8cc177a218aba30aaed2b0d55c1dc5c1693d/opencv_python-3.4.2.16-cp36-cp36m-win_amd64.whl#sha256=2d4d7456dbdce221db8313f95d94d5f26d29b495a6bf9b71537e83faef8a2435 (from https://pypi.org/simple/opencv-python/))\n",
      "Reason for being yanked: Release deprecated\n"
     ]
    },
    {
     "name": "stdout",
     "output_type": "stream",
     "text": [
      "Collecting opencv-contrib-python==3.4.2.16\n",
      "  Using cached opencv_contrib_python-3.4.2.16-cp36-cp36m-win_amd64.whl (39.6 MB)\n",
      "Requirement already satisfied: numpy>=1.11.3 in c:\\users\\ctakenaga\\source\\cv\\surf_sift_2\\.venv\\lib\\site-packages (from opencv-contrib-python==3.4.2.16) (1.19.5)\n",
      "Installing collected packages: opencv-contrib-python\n",
      "Successfully installed opencv-contrib-python-3.4.2.16\n",
      "Note: you may need to restart the kernel to use updated packages.\n"
     ]
    },
    {
     "name": "stderr",
     "output_type": "stream",
     "text": [
      "WARNING: The candidate selected for download or install is a yanked version: 'opencv-contrib-python' candidate (version 3.4.2.16 at https://files.pythonhosted.org/packages/61/34/b0cbb7689ab23b37a7e1b6e2e8da228b2561ca39923a6403b1cf76ac2d31/opencv_contrib_python-3.4.2.16-cp36-cp36m-win_amd64.whl#sha256=db118e27edeac3e43838f2498094fe79075a4f25b0a804f499298e340cb1f0db (from https://pypi.org/simple/opencv-contrib-python/))\n",
      "Reason for being yanked: Release deprecated\n"
     ]
    },
    {
     "name": "stdout",
     "output_type": "stream",
     "text": [
      "Collecting matplotlib\n",
      "  Using cached matplotlib-3.3.4-cp36-cp36m-win_amd64.whl (8.5 MB)\n",
      "Collecting pyparsing!=2.0.4,!=2.1.2,!=2.1.6,>=2.0.3\n",
      "  Using cached pyparsing-3.1.4-py3-none-any.whl (104 kB)\n",
      "Requirement already satisfied: python-dateutil>=2.1 in c:\\users\\ctakenaga\\source\\cv\\surf_sift_2\\.venv\\lib\\site-packages (from matplotlib) (2.9.0.post0)\n",
      "Collecting kiwisolver>=1.0.1\n",
      "  Using cached kiwisolver-1.3.1-cp36-cp36m-win_amd64.whl (51 kB)\n",
      "Collecting cycler>=0.10\n",
      "  Using cached cycler-0.11.0-py3-none-any.whl (6.4 kB)\n",
      "Requirement already satisfied: numpy>=1.15 in c:\\users\\ctakenaga\\source\\cv\\surf_sift_2\\.venv\\lib\\site-packages (from matplotlib) (1.19.5)\n",
      "Collecting pillow>=6.2.0\n",
      "  Using cached Pillow-8.4.0-cp36-cp36m-win_amd64.whl (3.2 MB)\n",
      "Requirement already satisfied: six>=1.5 in c:\\users\\ctakenaga\\source\\cv\\surf_sift_2\\.venv\\lib\\site-packages (from python-dateutil>=2.1->matplotlib) (1.17.0)\n",
      "Installing collected packages: pyparsing, pillow, kiwisolver, cycler, matplotlib\n",
      "Successfully installed cycler-0.11.0 kiwisolver-1.3.1 matplotlib-3.3.4 pillow-8.4.0 pyparsing-3.1.4\n",
      "Note: you may need to restart the kernel to use updated packages.\n",
      "Collecting scikit-learn\n",
      "  Using cached scikit_learn-0.24.2-cp36-cp36m-win_amd64.whl (6.8 MB)\n",
      "Collecting threadpoolctl>=2.0.0\n",
      "  Using cached threadpoolctl-3.1.0-py3-none-any.whl (14 kB)\n",
      "Collecting scipy>=0.19.1\n",
      "  Using cached scipy-1.5.4-cp36-cp36m-win_amd64.whl (31.2 MB)\n",
      "Collecting joblib>=0.11\n",
      "  Using cached joblib-1.1.1-py2.py3-none-any.whl (309 kB)\n",
      "Requirement already satisfied: numpy>=1.13.3 in c:\\users\\ctakenaga\\source\\cv\\surf_sift_2\\.venv\\lib\\site-packages (from scikit-learn) (1.19.5)\n",
      "Installing collected packages: threadpoolctl, scipy, joblib, scikit-learn\n",
      "Successfully installed joblib-1.1.1 scikit-learn-0.24.2 scipy-1.5.4 threadpoolctl-3.1.0\n",
      "Note: you may need to restart the kernel to use updated packages.\n",
      "Collecting scikit-imageNote: you may need to restart the kernel to use updated packages.\n",
      "  Using cached scikit_image-0.17.2-cp36-cp36m-win_amd64.whl (11.5 MB)\n",
      "Collecting tifffile>=2019.7.26\n",
      "\n",
      "  Using cached tifffile-2020.9.3-py3-none-any.whl (148 kB)\n",
      "Collecting PyWavelets>=1.1.1\n",
      "  Using cached PyWavelets-1.1.1-cp36-cp36m-win_amd64.whl (4.2 MB)\n",
      "Requirement already satisfied: numpy>=1.15.1 in c:\\users\\ctakenaga\\source\\cv\\surf_sift_2\\.venv\\lib\\site-packages (from scikit-image) (1.19.5)\n",
      "Requirement already satisfied: scipy>=1.0.1 in c:\\users\\ctakenaga\\source\\cv\\surf_sift_2\\.venv\\lib\\site-packages (from scikit-image) (1.5.4)\n",
      "Collecting imageio>=2.3.0\n",
      "  Using cached imageio-2.15.0-py3-none-any.whl (3.3 MB)\n",
      "Requirement already satisfied: pillow!=7.1.0,!=7.1.1,>=4.3.0 in c:\\users\\ctakenaga\\source\\cv\\surf_sift_2\\.venv\\lib\\site-packages (from scikit-image) (8.4.0)\n",
      "Collecting networkx>=2.0\n",
      "  Using cached networkx-2.5.1-py3-none-any.whl (1.6 MB)\n",
      "Requirement already satisfied: matplotlib!=3.0.0,>=2.0.0 in c:\\users\\ctakenaga\\source\\cv\\surf_sift_2\\.venv\\lib\\site-packages (from scikit-image) (3.3.4)\n",
      "Requirement already satisfied: pyparsing!=2.0.4,!=2.1.2,!=2.1.6,>=2.0.3 in c:\\users\\ctakenaga\\source\\cv\\surf_sift_2\\.venv\\lib\\site-packages (from matplotlib!=3.0.0,>=2.0.0->scikit-image) (3.1.4)\n",
      "Requirement already satisfied: cycler>=0.10 in c:\\users\\ctakenaga\\source\\cv\\surf_sift_2\\.venv\\lib\\site-packages (from matplotlib!=3.0.0,>=2.0.0->scikit-image) (0.11.0)\n",
      "Requirement already satisfied: kiwisolver>=1.0.1 in c:\\users\\ctakenaga\\source\\cv\\surf_sift_2\\.venv\\lib\\site-packages (from matplotlib!=3.0.0,>=2.0.0->scikit-image) (1.3.1)\n",
      "Requirement already satisfied: python-dateutil>=2.1 in c:\\users\\ctakenaga\\source\\cv\\surf_sift_2\\.venv\\lib\\site-packages (from matplotlib!=3.0.0,>=2.0.0->scikit-image) (2.9.0.post0)\n",
      "Collecting decorator<5,>=4.3\n",
      "  Using cached decorator-4.4.2-py2.py3-none-any.whl (9.2 kB)\n",
      "Requirement already satisfied: six>=1.5 in c:\\users\\ctakenaga\\source\\cv\\surf_sift_2\\.venv\\lib\\site-packages (from python-dateutil>=2.1->matplotlib!=3.0.0,>=2.0.0->scikit-image) (1.17.0)\n",
      "Installing collected packages: decorator, tifffile, PyWavelets, networkx, imageio, scikit-image\n",
      "  Attempting uninstall: decorator\n",
      "    Found existing installation: decorator 5.1.1\n",
      "    Uninstalling decorator-5.1.1:\n",
      "      Successfully uninstalled decorator-5.1.1\n",
      "Successfully installed PyWavelets-1.1.1 decorator-4.4.2 imageio-2.15.0 networkx-2.5.1 scikit-image-0.17.2 tifffile-2020.9.3\n",
      "Collecting imutils\n",
      "  Using cached imutils-0.5.4.tar.gz (17 kB)\n",
      "  Preparing metadata (setup.py): started\n",
      "  Preparing metadata (setup.py): finished with status 'done'\n",
      "Using legacy 'setup.py install' for imutils, since package 'wheel' is not installed.\n",
      "Installing collected packages: imutils\n",
      "    Running setup.py install for imutils: started\n",
      "    Running setup.py install for imutils: finished with status 'done'\n",
      "Successfully installed imutils-0.5.4\n",
      "Note: you may need to restart the kernel to use updated packages.\n"
     ]
    }
   ],
   "source": [
    "%pip install opencv-python==3.4.2.16\n",
    "%pip install opencv-contrib-python==3.4.2.16\n",
    "%pip install matplotlib\n",
    "%pip install scikit-learn\n",
    "%pip install scikit-image\n",
    "%pip install imutils"
   ]
  },
  {
   "cell_type": "code",
   "execution_count": null,
   "id": "98fdf2b8",
   "metadata": {},
   "outputs": [],
   "source": [
    "import cv2\n",
    "import matplotlib.pyplot as plt\n",
    "from sklearn.cluster import KMeans\n",
    "import numpy as np\n",
    "from skimage.metrics import structural_similarity as ssim"
   ]
  },
  {
   "cell_type": "markdown",
   "id": "d7b3bacb",
   "metadata": {},
   "source": [
    "Run below cells after \"import cv2\""
   ]
  },
  {
   "cell_type": "code",
   "execution_count": null,
   "id": "ebb72e47",
   "metadata": {},
   "outputs": [],
   "source": [
    "def SURF(imgFileName):\n",
    "    gray = cv2.imread(imgFileName, cv2.IMREAD_GRAYSCALE)\n",
    "    \n",
    "    hessianThreshold = 1000 # determines how many interest points will be deteced (larger value = fewer, more prominent points; smaller value = numerous, less prominent points)\n",
    "    surf = cv2.xfeatures2d.SURF_create(hessianThreshold)\n",
    "    # sift = cv2.xfeatures2d.SIFT_create()\n",
    "    keypoints,descriptors = surf.detectAndCompute(gray,None)\n",
    "    gray_with_keypoints = cv2.drawKeypoints(gray,keypoints,gray,flags=cv2.DRAW_MATCHES_FLAGS_DRAW_RICH_KEYPOINTS)\n",
    "\n",
    "    plt.figure()\n",
    "    plt.imshow(gray_with_keypoints)\n",
    "    plt.show()\n",
    "    return keypoints,descriptors"
   ]
  },
  {
   "cell_type": "markdown",
   "id": "a27b7223",
   "metadata": {},
   "source": [
    "### Feature Matching\n",
    "Using 2 different images, one with dent and one without"
   ]
  },
  {
   "cell_type": "code",
   "execution_count": null,
   "id": "fbb2a433",
   "metadata": {},
   "outputs": [],
   "source": [
    "def feature_match(des1, des2):\n",
    "    # Match descriptors for 2 images\n",
    "    # Use BFMatcher.knnMatch to get k best matches:\n",
    "    bf = cv2.BFMatcher()\n",
    "    matches = bf.knnMatch(des1,des2,k=2) # using knnMatch\n",
    "\n",
    "    return len(matches), matches"
   ]
  },
  {
   "cell_type": "markdown",
   "id": "ca4fa1d4",
   "metadata": {},
   "source": [
    "### Keypoint Detection and Matching"
   ]
  },
  {
   "cell_type": "code",
   "execution_count": null,
   "id": "a5e418a8",
   "metadata": {},
   "outputs": [],
   "source": [
    "import os\n",
    "\n",
    "directory_path = 'car_images/blue_car'\n",
    "imageList = {} # {imgPathName: imgReadAsGreyscale}\n",
    "\n",
    "for imageFile in os.listdir(directory_path):\n",
    "    imgPath = os.path.join(directory_path, imageFile)\n",
    "    if os.path.isfile(imgPath):\n",
    "        img = cv2.imread(imgPath, cv2.IMREAD_GRAYSCALE)\n",
    "        imageList[imgPath] = img\n",
    "\n",
    "imagePathList = list(imageList.keys())\n",
    "imageReadList = list(imageList.values())\n",
    "\n",
    "outputKP = []\n",
    "outputDES = []\n",
    "\n",
    "for imgPath in imagePathList:\n",
    "    kp,des = SURF(imgPath)\n",
    "    outputKP.append(kp)\n",
    "    outputDES.append(des)\n",
    "\n",
    "match_count3,matches3 = feature_match(outputDES[0], outputDES[1])\n",
    "\n",
    "good3 = [m1 for (m1, m2) in matches3 if m1.distance < 0.75 * m2.distance] # bad matches\n",
    "bad3 = [m1 for (m1, m2) in matches3 if m1.distance > 0.75 * m2.distance] # bad matches\n",
    "\n",
    "# print(len(bad3))\n",
    "# print(len(outputDES[0]), len(outputDES[1]))\n",
    "\n",
    "# p.float32([ kpts2[m.trainIdx].pt for m in good3 ]).reshape(-1,1,2)\n",
    "bad_des1 = [outputDES[0][m.queryIdx] for m in bad3]\n",
    "bad_des2 = [outputDES[1][m.trainIdx] for m in bad3]\n",
    "    \n",
    "# bad3Keys = list(bad3.keys())\n",
    "print(\"There are: \", len(bad3), \" bad matches\") # 350 out of 365 are bad matches\n",
    "print(\"There are: \", len(good3), \" good matches.\")\n",
    "print(\"There are: \", match_count3, \" total matches.\") # 69 SURF (hessian=2000), 112 SURF (hessian=1000), 426 SURF color (hessian=100), 450 SURF grayscale (hessian=100)\n",
    "\n",
    "# Using match:\n",
    "# result3 = cv2.drawMatches(imageReadList[0], outputKP[0], imageReadList[1], outputKP[1], matches3[:50], None, flags=cv2.DrawMatchesFlags_NOT_DRAW_SINGLE_POINTS)\n",
    "result3Good = cv2.drawMatches(imageReadList[0], outputKP[0], imageReadList[1], outputKP[1], good3, None, flags=cv2.DrawMatchesFlags_NOT_DRAW_SINGLE_POINTS)\n",
    "result3Bad = cv2.drawMatches(imageReadList[0], outputKP[0], imageReadList[1], outputKP[1], bad3, None, flags=cv2.DrawMatchesFlags_NOT_DRAW_SINGLE_POINTS) # draw the 50 worst matches (greatest distance)\n",
    "\n",
    "print(\"Visualizing the good and bad matches:\")\n",
    "plt.figure(figsize=(10, 6))\n",
    "plt.imshow(result3Good)\n",
    "plt.title(\"Good Matches\")\n",
    "plt.show()\n",
    "plt.figure(figsize=(10, 6))\n",
    "plt.imshow(result3Bad)\n",
    "plt.title(\"Bad Matches\")\n",
    "plt.show()"
   ]
  },
  {
   "cell_type": "markdown",
   "id": "9a364ee1",
   "metadata": {},
   "source": [
    "#### Functions for Finding Transformation Matrix and Masking out Differences in Images\n",
    "\n",
    "Using the method described in: https://stackoverflow.com/questions/67736244/differences-between-two-images-with-slightly-different-point-of-view-and-lightin/67830242#67830242"
   ]
  },
  {
   "cell_type": "code",
   "execution_count": null,
   "id": "319e1817",
   "metadata": {},
   "outputs": [],
   "source": [
    "def get_matrix(img1, img2, pts):\n",
    "    surf = cv2.xfeatures2d.SURF_create()\n",
    "    kpts1, descs1 = surf.detectAndCompute(img1, None)\n",
    "    kpts2, descs2 = surf.detectAndCompute(img2, None)\n",
    "\n",
    "    bfMatcher = cv2.BFMatcher()\n",
    "    matches = bfMatcher.knnMatch(descs1,descs2,k=2)\n",
    "    matches = sorted(bfMatcher.knnMatch(descs1, descs2, 2), key=lambda x: x[0].distance)\n",
    "    good = [m1 for m1, m2 in matches if m1.distance < 0.7 * m2.distance]\n",
    "\n",
    "    resultGood = cv2.drawMatches(img1, kpts1, img2, kpts2, good, None, flags=cv2.DrawMatchesFlags_NOT_DRAW_SINGLE_POINTS)\n",
    "    plt.figure(figsize=(10, 6))\n",
    "    plt.imshow(resultGood, cmap='gray')\n",
    "    plt.show()\n",
    "\n",
    "    if (len(good) < 5):\n",
    "        print(\"not enough matches found\")\n",
    "        return None\n",
    "    \n",
    "    src_pts = np.float32([[kpts1[m.queryIdx].pt] for m in good])\n",
    "    dst_pts = np.float32([[kpts2[m.trainIdx].pt] for m in good])\n",
    "\n",
    "    M, mask = cv2.findHomography(src_pts, dst_pts, cv2.RANSAC, 5)\n",
    "    dst = cv2.perspectiveTransform(pts, M).astype('float32')\n",
    "    return cv2.getPerspectiveTransform(dst, pts)\n",
    "\n",
    "def get_mask(img):\n",
    "    mask = np.zeros(img.shape[:2], 'uint8')\n",
    "    img_canny = cv2.Canny(img, 0, 0)\n",
    "    img_dilate = cv2.dilate(img_canny, None, iterations=2)\n",
    "    img_erode = cv2.erode(img_dilate, None, iterations=3)\n",
    "    _, contours, _ = cv2.findContours(img_erode, cv2.RETR_EXTERNAL, cv2.CHAIN_APPROX_SIMPLE)\n",
    "    cnt = cv2.convexHull(max(contours, key=cv2.contourArea))\n",
    "    cv2.drawContours(mask, [cnt], -1, 255, -1)\n",
    "    return mask"
   ]
  },
  {
   "cell_type": "markdown",
   "id": "da6ae2e4",
   "metadata": {},
   "source": [
    "### Visualizing Feature Matches and Difference Masking"
   ]
  },
  {
   "cell_type": "code",
   "execution_count": null,
   "id": "e4b9e57e",
   "metadata": {},
   "outputs": [],
   "source": [
    "folder_path = \"car_images\"\n",
    "for file_name in os.listdir(folder_path):\n",
    "    if os.path.isdir(os.path.join(folder_path, file_name)):\n",
    "        img_filename = os.path.join(folder_path,file_name)\n",
    "        img1 = cv2.imread(os.path.join(img_filename, \"withDent.png\"), cv2.IMREAD_GRAYSCALE)\n",
    "        img2 = cv2.imread(os.path.join(img_filename, \"withoutDent.png\"), cv2.IMREAD_GRAYSCALE)\n",
    "\n",
    "        # print(img1.shape)\n",
    "        # print(img2.shape)\n",
    "        h, w= img1.shape\n",
    "\n",
    "        pts = np.float32([[[0, 0]], [[0, h - 1]], [[w - 1, h - 1]], [[w - 1, 0]]])\n",
    "        perspectiveM = get_matrix(img1, img2, pts)\n",
    "\n",
    "        if (perspectiveM is not None):\n",
    "            warped = cv2.warpPerspective(img2, perspectiveM, (w, h))\n",
    "\n",
    "            (score,diff) = ssim(warped, img1, full=True)\n",
    "            print(f'SSIM: {score}') # ~ 0.5\n",
    "            diff = (diff * 255).astype(\"uint8\")\n",
    "\n",
    "            _, thresh = cv2.threshold(diff, 40, 255, cv2.THRESH_BINARY) # 40,255\n",
    "            mask = get_mask(thresh)\n",
    "\n",
    "            perspectiveM = cv2.warpPerspective(mask, np.linalg.inv(perspectiveM), (w, h))\n",
    "\n",
    "            # print(img1.shape)\n",
    "            # print(img2.shape)\n",
    "            # print(perspectiveM.shape)\n",
    "            res = cv2.bitwise_and(img1, img1, mask=perspectiveM)\n",
    "\n",
    "\n",
    "            plt.figure(figsize=(20,12))\n",
    "            plt.imshow(np.hstack((img1,warped,thresh,res)), cmap='gray')\n",
    "            plt.title(\"OG Image 1, Warped Image 2, Threshold, Result Difference\")\n",
    "            plt.show()\n",
    "            print(\"-------------------------------\")"
   ]
  }
 ],
 "metadata": {
  "kernelspec": {
   "display_name": ".venv",
   "language": "python",
   "name": "python3"
  },
  "language_info": {
   "codemirror_mode": {
    "name": "ipython",
    "version": 3
   },
   "file_extension": ".py",
   "mimetype": "text/x-python",
   "name": "python",
   "nbconvert_exporter": "python",
   "pygments_lexer": "ipython3",
   "version": "3.6.8"
  }
 },
 "nbformat": 4,
 "nbformat_minor": 5
}
